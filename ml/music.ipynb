{
 "cells": [
  {
   "cell_type": "code",
   "execution_count": 21,
   "metadata": {},
   "outputs": [
    {
     "data": {
      "text/plain": [
       "0.8333333333333334"
      ]
     },
     "execution_count": 21,
     "metadata": {},
     "output_type": "execute_result"
    }
   ],
   "source": [
    "import pandas as pd\n",
    "from sklearn.tree import DecisionTreeClassifier\n",
    "from sklearn.model_selection import train_test_split\n",
    "from sklearn.metrics import accuracy_score\n",
    "import joblib\n",
    "\n",
    "# Récupération des données\n",
    "music_df = pd.read_csv('./data/music.csv')\n",
    "# music_df\n",
    "\n",
    "# Séparation des données\n",
    "# X: Input Data / y: Output Data --> Norme en ML\n",
    "# Supprimer des données la colonne genre (retrouvé à par dans y)\n",
    "X = music_df.drop(columns=['genre'])\n",
    "# Cibler colonne genre\n",
    "y = music_df['genre']\n",
    "\n",
    "# 0,2 = 20% utilisé pour les prédictions\n",
    "X_train, X_test, y_train, y_test = train_test_split(X, y, test_size = 0.3)\n",
    "\n",
    "# Utilisation du modèle d'arbre de décision\n",
    "# model = DecisionTreeClassifier()\n",
    "# model.fit(X.values, y.values)\n",
    "\n",
    "# Predictions\n",
    "# predictions = model.predict([[22, 1], [22, 0]])\n",
    "# predictions\n",
    "\n",
    "model = DecisionTreeClassifier()\n",
    "model.fit(X_train, y_train)\n",
    "predictions = model.predict(X_test)\n",
    "# print(X_test)\n",
    "# print(predictions)\n",
    "\n",
    "# Evaluer les données d'entrée\n",
    "# Accuracy score\n",
    "score = accuracy_score(y_test, predictions)\n",
    "score\n",
    "\n",
    "# Enregistrer le modèle\n",
    "# Model persistance\n",
    "# joblib.dump(model, 'music-recommander.joblib')"
   ]
  }
 ],
 "metadata": {
  "kernelspec": {
   "display_name": "ml-venv",
   "language": "python",
   "name": "python3"
  },
  "language_info": {
   "codemirror_mode": {
    "name": "ipython",
    "version": 3
   },
   "file_extension": ".py",
   "mimetype": "text/x-python",
   "name": "python",
   "nbconvert_exporter": "python",
   "pygments_lexer": "ipython3",
   "version": "3.12.0"
  }
 },
 "nbformat": 4,
 "nbformat_minor": 2
}
